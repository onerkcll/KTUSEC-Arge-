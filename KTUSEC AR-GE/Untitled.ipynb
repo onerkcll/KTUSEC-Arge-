{
 "cells": [
  {
   "cell_type": "code",
   "execution_count": 1,
   "id": "ad8cd250",
   "metadata": {
    "collapsed": true
   },
   "outputs": [
    {
     "data": {
      "text/plain": [
       "'\\nÇoklu Yorum satırı örneği :)\\n'"
      ]
     },
     "execution_count": 1,
     "metadata": {},
     "output_type": "execute_result"
    }
   ],
   "source": [
    "\"\"\"\n",
    "KTUSEC AR-GE Python101 cheat sheet \n",
    "\"\"\"\n",
    "\"\"\"\n",
    "Çoklu Yorum satırı örneği :)\n",
    "\"\"\""
   ]
  },
  {
   "cell_type": "code",
   "execution_count": 2,
   "id": "06e47987",
   "metadata": {},
   "outputs": [],
   "source": [
    "# Python ve veri tipleri \n"
   ]
  },
  {
   "cell_type": "code",
   "execution_count": 6,
   "id": "fd86ffa3",
   "metadata": {},
   "outputs": [],
   "source": [
    "# Sayılar pythonda diğer dillere nazaran sayıların her çeşidine hakim olmanıza gerek yoktur."
   ]
  },
  {
   "cell_type": "code",
   "execution_count": 1,
   "id": "a76e3213",
   "metadata": {},
   "outputs": [
    {
     "data": {
      "text/plain": [
       "61"
      ]
     },
     "execution_count": 1,
     "metadata": {},
     "output_type": "execute_result"
    }
   ],
   "source": [
    "# Integer tam sayılar \n",
    "20 + 41 "
   ]
  },
  {
   "cell_type": "code",
   "execution_count": 2,
   "id": "3d614d39",
   "metadata": {},
   "outputs": [
    {
     "data": {
      "text/plain": [
       "61"
      ]
     },
     "execution_count": 2,
     "metadata": {},
     "output_type": "execute_result"
    }
   ],
   "source": [
    "81 - 20 "
   ]
  },
  {
   "cell_type": "code",
   "execution_count": 5,
   "id": "730b9ff4",
   "metadata": {},
   "outputs": [
    {
     "data": {
      "text/plain": [
       "128.57142857142858"
      ]
     },
     "execution_count": 5,
     "metadata": {},
     "output_type": "execute_result"
    }
   ],
   "source": [
    "# Float \n",
    "900 / 7"
   ]
  },
  {
   "cell_type": "code",
   "execution_count": 6,
   "id": "cac3c023",
   "metadata": {},
   "outputs": [
    {
     "data": {
      "text/plain": [
       "169.60000000000002"
      ]
     },
     "execution_count": 6,
     "metadata": {},
     "output_type": "execute_result"
    }
   ],
   "source": [
    "80 * 2.12"
   ]
  },
  {
   "cell_type": "code",
   "execution_count": 7,
   "id": "58c93879",
   "metadata": {},
   "outputs": [
    {
     "data": {
      "text/plain": [
       "8"
      ]
     },
     "execution_count": 7,
     "metadata": {},
     "output_type": "execute_result"
    }
   ],
   "source": [
    "2 **3 "
   ]
  },
  {
   "cell_type": "code",
   "execution_count": 8,
   "id": "ef9f6230",
   "metadata": {},
   "outputs": [
    {
     "data": {
      "text/plain": [
       "8"
      ]
     },
     "execution_count": 8,
     "metadata": {},
     "output_type": "execute_result"
    }
   ],
   "source": [
    "2 * 2 * 2\n"
   ]
  },
  {
   "cell_type": "code",
   "execution_count": 15,
   "id": "0c10c9bc",
   "metadata": {},
   "outputs": [],
   "source": [
    "#Pythonda bir değişken kullanırken değişkenin tipini belirtmeniz gerekmez , python sizin yerinize veri tiplerini\n",
    "# bellek kullanımını organize eden yorumlanan bir dildir. "
   ]
  },
  {
   "cell_type": "code",
   "execution_count": 10,
   "id": "8947d02a",
   "metadata": {},
   "outputs": [
    {
     "name": "stdout",
     "output_type": "stream",
     "text": [
      "Foo değişkeninin değeri: 3\n",
      "<class 'int'>\n"
     ]
    }
   ],
   "source": [
    "foo  = 3\n",
    "print(\"Foo değişkeninin değeri: \" + str(foo))\n",
    "print(type(foo))"
   ]
  },
  {
   "cell_type": "code",
   "execution_count": 12,
   "id": "dea6797a",
   "metadata": {},
   "outputs": [
    {
     "name": "stdout",
     "output_type": "stream",
     "text": [
      "Bar değişkeninin değeri KTUSEC\n",
      "<class 'str'>\n"
     ]
    }
   ],
   "source": [
    "bar = \"KTUSEC\"\n",
    "print(f'Bar değişkeninin değeri {bar}')\n",
    "print(type(bar))"
   ]
  },
  {
   "cell_type": "code",
   "execution_count": 13,
   "id": "b9ac6123",
   "metadata": {},
   "outputs": [
    {
     "name": "stdout",
     "output_type": "stream",
     "text": [
      "Foo değişkeninin yeni değeri KTU SEC ARGe, yeni veri tipi <class 'str'>\n",
      "Bar değişkeninin yeni değeri 2000123.12, yeni veri tipi<class 'float'>\n"
     ]
    }
   ],
   "source": [
    "# Değişkenleri initialize ettiğiniz veri tipinden farklı tiplere de cast edebilirsiniz. \n",
    "foo = 'KTU SEC ARGe'\n",
    "bar = 2000123.12\n",
    "print(f\"Foo değişkeninin yeni değeri {foo}, yeni veri tipi {type(foo)}\")\n",
    "## Stringleri doldurmamızın birden fazla yolu var, herhangi birini tercih edebilirsiniz.\n",
    "print (\"Bar değişkeninin yeni değeri {}, yeni veri tipi{}\".format(bar, type(bar)))\n"
   ]
  },
  {
   "cell_type": "code",
   "execution_count": 14,
   "id": "c2073995",
   "metadata": {},
   "outputs": [
    {
     "name": "stdout",
     "output_type": "stream",
     "text": [
      "KTU\n"
     ]
    }
   ],
   "source": [
    "## String işlemleri ##\n",
    "new_string = foo[:3]\n",
    "print(new_string)"
   ]
  },
  {
   "cell_type": "code",
   "execution_count": 15,
   "id": "ebce9a73",
   "metadata": {},
   "outputs": [
    {
     "name": "stdout",
     "output_type": "stream",
     "text": [
      "TU\n"
     ]
    }
   ],
   "source": [
    "new_string = foo[1:3]\n",
    "print(new_string)"
   ]
  },
  {
   "cell_type": "code",
   "execution_count": 17,
   "id": "79deda34",
   "metadata": {},
   "outputs": [
    {
     "name": "stdout",
     "output_type": "stream",
     "text": [
      "eGRA CES UTK\n"
     ]
    }
   ],
   "source": [
    "new_string = foo[::-1]\n",
    "print(new_string)"
   ]
  },
  {
   "cell_type": "code",
   "execution_count": 18,
   "id": "07535df1",
   "metadata": {},
   "outputs": [
    {
     "name": "stdout",
     "output_type": "stream",
     "text": [
      "KUSCAG\n"
     ]
    }
   ],
   "source": [
    "new_string = foo[::2]\n",
    "print(new_string)"
   ]
  },
  {
   "cell_type": "code",
   "execution_count": 22,
   "id": "2c4a5077",
   "metadata": {},
   "outputs": [],
   "source": [
    "name = 'John Doe'\n"
   ]
  },
  {
   "cell_type": "code",
   "execution_count": 23,
   "id": "f2898b26",
   "metadata": {},
   "outputs": [
    {
     "data": {
      "text/plain": [
       "['John', 'Doe']"
      ]
     },
     "execution_count": 23,
     "metadata": {},
     "output_type": "execute_result"
    }
   ],
   "source": [
    "name.split()"
   ]
  },
  {
   "cell_type": "code",
   "execution_count": 24,
   "id": "947a9093",
   "metadata": {},
   "outputs": [
    {
     "data": {
      "text/plain": [
       "['J', 'hn D', 'e']"
      ]
     },
     "execution_count": 24,
     "metadata": {},
     "output_type": "execute_result"
    }
   ],
   "source": [
    "name.split('o')"
   ]
  },
  {
   "cell_type": "code",
   "execution_count": 26,
   "id": "1a7be0e3",
   "metadata": {},
   "outputs": [
    {
     "data": {
      "text/plain": [
       "'JOHN DOE'"
      ]
     },
     "execution_count": 26,
     "metadata": {},
     "output_type": "execute_result"
    }
   ],
   "source": [
    "name.upper()"
   ]
  },
  {
   "cell_type": "code",
   "execution_count": 27,
   "id": "646d4321",
   "metadata": {},
   "outputs": [
    {
     "data": {
      "text/plain": [
       "'john doe'"
      ]
     },
     "execution_count": 27,
     "metadata": {},
     "output_type": "execute_result"
    }
   ],
   "source": [
    "name.lower()"
   ]
  },
  {
   "cell_type": "code",
   "execution_count": 28,
   "id": "900583db",
   "metadata": {},
   "outputs": [
    {
     "data": {
      "text/plain": [
       "'John DoeJohn DoeJohn DoeJohn DoeJohn DoeJohn DoeJohn DoeJohn DoeJohn DoeJohn Doe'"
      ]
     },
     "execution_count": 28,
     "metadata": {},
     "output_type": "execute_result"
    }
   ],
   "source": [
    "name * 10\n",
    "## String bir değeri float bir değer ile çarpabilir miyiz ? "
   ]
  },
  {
   "cell_type": "code",
   "execution_count": 29,
   "id": "66250c59",
   "metadata": {},
   "outputs": [],
   "source": [
    "new_name = 'Jupyter'"
   ]
  },
  {
   "cell_type": "code",
   "execution_count": 30,
   "id": "a987deed",
   "metadata": {},
   "outputs": [],
   "source": [
    "################################################################################################################################"
   ]
  },
  {
   "cell_type": "code",
   "execution_count": 60,
   "id": "01849703",
   "metadata": {},
   "outputs": [],
   "source": [
    "# Pythonda Listeler "
   ]
  },
  {
   "cell_type": "code",
   "execution_count": 31,
   "id": "a3b16ab7",
   "metadata": {},
   "outputs": [],
   "source": [
    "#1 \n",
    "my_list = list()\n",
    "# 2 , preffered way \n",
    "my_new_list = [3,3, 4, 5, 'string', 3.12, 3.12, 'string']"
   ]
  },
  {
   "cell_type": "code",
   "execution_count": 32,
   "id": "c77cdeaa",
   "metadata": {},
   "outputs": [],
   "source": [
    "my_list.append(1)"
   ]
  },
  {
   "cell_type": "code",
   "execution_count": 33,
   "id": "1b06625c",
   "metadata": {},
   "outputs": [
    {
     "data": {
      "text/plain": [
       "[1]"
      ]
     },
     "execution_count": 33,
     "metadata": {},
     "output_type": "execute_result"
    }
   ],
   "source": [
    "my_list"
   ]
  },
  {
   "cell_type": "code",
   "execution_count": 34,
   "id": "f77bb4cb",
   "metadata": {},
   "outputs": [
    {
     "data": {
      "text/plain": [
       "[3, 3, 4, 5, 'string', 3.12, 3.12, 'string']"
      ]
     },
     "execution_count": 34,
     "metadata": {},
     "output_type": "execute_result"
    }
   ],
   "source": [
    "my_new_list"
   ]
  },
  {
   "cell_type": "code",
   "execution_count": 35,
   "id": "6392714f",
   "metadata": {},
   "outputs": [],
   "source": [
    "my_new_list.reverse()"
   ]
  },
  {
   "cell_type": "code",
   "execution_count": 36,
   "id": "92df9806",
   "metadata": {},
   "outputs": [
    {
     "data": {
      "text/plain": [
       "['string', 3.12, 3.12, 'string', 5, 4, 3, 3]"
      ]
     },
     "execution_count": 36,
     "metadata": {},
     "output_type": "execute_result"
    }
   ],
   "source": [
    "my_new_list"
   ]
  },
  {
   "cell_type": "code",
   "execution_count": 37,
   "id": "e3362f49",
   "metadata": {},
   "outputs": [
    {
     "data": {
      "text/plain": [
       "2"
      ]
     },
     "execution_count": 37,
     "metadata": {},
     "output_type": "execute_result"
    }
   ],
   "source": [
    "my_new_list.count(3)"
   ]
  },
  {
   "cell_type": "code",
   "execution_count": 86,
   "id": "07d1baee",
   "metadata": {},
   "outputs": [],
   "source": [
    "#Pythonda set kullanmak \n"
   ]
  },
  {
   "cell_type": "code",
   "execution_count": 38,
   "id": "6309ed16",
   "metadata": {},
   "outputs": [],
   "source": [
    "my_set = set()\n"
   ]
  },
  {
   "cell_type": "code",
   "execution_count": 39,
   "id": "998f3f0b",
   "metadata": {},
   "outputs": [],
   "source": [
    "my_set_from_list = set(my_new_list)"
   ]
  },
  {
   "cell_type": "code",
   "execution_count": 40,
   "id": "8ab459b6",
   "metadata": {},
   "outputs": [
    {
     "data": {
      "text/plain": [
       "{3, 3.12, 4, 5, 'string'}"
      ]
     },
     "execution_count": 40,
     "metadata": {},
     "output_type": "execute_result"
    }
   ],
   "source": [
    "my_set_from_list\n",
    "# Set her itemden sadece bir adet barındırır."
   ]
  },
  {
   "cell_type": "code",
   "execution_count": 97,
   "id": "1de133b3",
   "metadata": {},
   "outputs": [],
   "source": [
    "# Pythonda dictionaries, sözlükler "
   ]
  },
  {
   "cell_type": "code",
   "execution_count": 41,
   "id": "ae600cbe",
   "metadata": {},
   "outputs": [],
   "source": [
    "my_dict = {}"
   ]
  },
  {
   "cell_type": "code",
   "execution_count": 42,
   "id": "3ca69bc8",
   "metadata": {},
   "outputs": [],
   "source": [
    "my_dict = {'key': 'value'}"
   ]
  },
  {
   "cell_type": "code",
   "execution_count": 45,
   "id": "77983f72",
   "metadata": {},
   "outputs": [
    {
     "data": {
      "text/plain": [
       "'value'"
      ]
     },
     "execution_count": 45,
     "metadata": {},
     "output_type": "execute_result"
    }
   ],
   "source": [
    "my_dict.get('key')"
   ]
  },
  {
   "cell_type": "code",
   "execution_count": 46,
   "id": "a0babb21",
   "metadata": {},
   "outputs": [
    {
     "data": {
      "text/plain": [
       "'value'"
      ]
     },
     "execution_count": 46,
     "metadata": {},
     "output_type": "execute_result"
    }
   ],
   "source": [
    "my_dict['key']"
   ]
  },
  {
   "cell_type": "code",
   "execution_count": 103,
   "id": "ddd5d33d",
   "metadata": {},
   "outputs": [],
   "source": [
    "my_dict['new_key'] = 'new_value' "
   ]
  },
  {
   "cell_type": "code",
   "execution_count": 48,
   "id": "d9ff009b",
   "metadata": {},
   "outputs": [],
   "source": [
    "my_dict.get('new_key')"
   ]
  },
  {
   "cell_type": "code",
   "execution_count": 49,
   "id": "b3dff905",
   "metadata": {},
   "outputs": [
    {
     "data": {
      "text/plain": [
       "dict_items([('key', 'value')])"
      ]
     },
     "execution_count": 49,
     "metadata": {},
     "output_type": "execute_result"
    }
   ],
   "source": [
    "my_dict.items()"
   ]
  },
  {
   "cell_type": "code",
   "execution_count": 50,
   "id": "7d323b9f",
   "metadata": {},
   "outputs": [
    {
     "data": {
      "text/plain": [
       "dict_keys(['key'])"
      ]
     },
     "execution_count": 50,
     "metadata": {},
     "output_type": "execute_result"
    }
   ],
   "source": [
    "my_dict.keys()"
   ]
  },
  {
   "cell_type": "code",
   "execution_count": 51,
   "id": "7832c0e7",
   "metadata": {},
   "outputs": [
    {
     "data": {
      "text/plain": [
       "dict_values(['value'])"
      ]
     },
     "execution_count": 51,
     "metadata": {},
     "output_type": "execute_result"
    }
   ],
   "source": [
    "my_dict.values()"
   ]
  },
  {
   "cell_type": "code",
   "execution_count": 119,
   "id": "b2d084da",
   "metadata": {},
   "outputs": [],
   "source": [
    "#Pythonda tuple  sonradan bir ekleme yapılamaz."
   ]
  },
  {
   "cell_type": "code",
   "execution_count": 52,
   "id": "63f59f93",
   "metadata": {},
   "outputs": [],
   "source": [
    "my_tuple = (3, 'string')"
   ]
  },
  {
   "cell_type": "code",
   "execution_count": 53,
   "id": "3cc0f1b1",
   "metadata": {},
   "outputs": [
    {
     "data": {
      "text/plain": [
       "(3, 'string')"
      ]
     },
     "execution_count": 53,
     "metadata": {},
     "output_type": "execute_result"
    }
   ],
   "source": [
    "my_tuple"
   ]
  },
  {
   "cell_type": "code",
   "execution_count": 54,
   "id": "852c54c1",
   "metadata": {},
   "outputs": [
    {
     "data": {
      "text/plain": [
       "1"
      ]
     },
     "execution_count": 54,
     "metadata": {},
     "output_type": "execute_result"
    }
   ],
   "source": [
    "my_tuple.count(3)"
   ]
  },
  {
   "cell_type": "code",
   "execution_count": 56,
   "id": "b6ef761e",
   "metadata": {},
   "outputs": [
    {
     "data": {
      "text/plain": [
       "1"
      ]
     },
     "execution_count": 56,
     "metadata": {},
     "output_type": "execute_result"
    }
   ],
   "source": [
    "my_tuple.index('string')"
   ]
  },
  {
   "cell_type": "code",
   "execution_count": null,
   "id": "d303fe68",
   "metadata": {},
   "outputs": [],
   "source": []
  },
  {
   "cell_type": "code",
   "execution_count": 124,
   "id": "d6e945f2",
   "metadata": {},
   "outputs": [],
   "source": [
    "############ Döngüler "
   ]
  },
  {
   "cell_type": "code",
   "execution_count": 57,
   "id": "0efa1f80",
   "metadata": {},
   "outputs": [],
   "source": [
    "num_1 = 3\n",
    "num_2 = 13\n",
    "# İf döngüsü \n",
    "# None == null "
   ]
  },
  {
   "cell_type": "code",
   "execution_count": 58,
   "id": "80752419",
   "metadata": {},
   "outputs": [
    {
     "name": "stdout",
     "output_type": "stream",
     "text": [
      "3\n"
     ]
    }
   ],
   "source": [
    "if num_1:\n",
    "    print(num_1)"
   ]
  },
  {
   "cell_type": "code",
   "execution_count": 59,
   "id": "cbe5580f",
   "metadata": {},
   "outputs": [
    {
     "name": "stdout",
     "output_type": "stream",
     "text": [
      "num1 küçüktür\n"
     ]
    }
   ],
   "source": [
    "if num_1 == num_2:\n",
    "    print(\"Eşittir\")\n",
    "elif num_1 < num_2:\n",
    "    print(\"num1 küçüktür\")\n",
    "else:\n",
    "    print(\"num1 büyüktür\")\n"
   ]
  },
  {
   "cell_type": "code",
   "execution_count": 60,
   "id": "4d4e0691",
   "metadata": {},
   "outputs": [
    {
     "name": "stdout",
     "output_type": "stream",
     "text": [
      "Num 3 None bir değerdir\n"
     ]
    }
   ],
   "source": [
    "num_3 = None\n",
    "if num_3:\n",
    "    print(\"Num 3 None bir değer değildir\")\n",
    "else:\n",
    "     print(\"Num 3 None bir değerdir\")"
   ]
  },
  {
   "cell_type": "code",
   "execution_count": 61,
   "id": "e00324b3",
   "metadata": {},
   "outputs": [],
   "source": [
    "true = True\n",
    "false = False\n"
   ]
  },
  {
   "cell_type": "code",
   "execution_count": 63,
   "id": "1fc3fb3f",
   "metadata": {},
   "outputs": [
    {
     "name": "stdout",
     "output_type": "stream",
     "text": [
      "True geçerli bir değerdir\n"
     ]
    }
   ],
   "source": [
    "if true:\n",
    "    print(\"True geçerli bir değerdir\")"
   ]
  },
  {
   "cell_type": "code",
   "execution_count": 65,
   "id": "a231cb66",
   "metadata": {},
   "outputs": [],
   "source": [
    "if false:\n",
    "    print(\"False geçerli bir değer değildir\")"
   ]
  },
  {
   "cell_type": "code",
   "execution_count": 66,
   "id": "de8b3487",
   "metadata": {},
   "outputs": [],
   "source": [
    "if false and true:\n",
    "    print(\" False & True = False\")"
   ]
  },
  {
   "cell_type": "code",
   "execution_count": 67,
   "id": "2d77e704",
   "metadata": {},
   "outputs": [
    {
     "name": "stdout",
     "output_type": "stream",
     "text": [
      " False & True = True\n"
     ]
    }
   ],
   "source": [
    "if false or true:\n",
    "    print(\" False & True = True\")"
   ]
  },
  {
   "cell_type": "code",
   "execution_count": 68,
   "id": "824fe099",
   "metadata": {},
   "outputs": [],
   "source": [
    "# While döngüsü "
   ]
  },
  {
   "cell_type": "code",
   "execution_count": 69,
   "id": "bfb15ef9",
   "metadata": {},
   "outputs": [],
   "source": [
    "counter = 7 "
   ]
  },
  {
   "cell_type": "code",
   "execution_count": 70,
   "id": "b5ca7097",
   "metadata": {},
   "outputs": [
    {
     "name": "stdout",
     "output_type": "stream",
     "text": [
      "7\n",
      "6\n",
      "5\n",
      "4\n",
      "3\n",
      "2\n",
      "1\n"
     ]
    }
   ],
   "source": [
    "while counter != 0:\n",
    "    print(counter)\n",
    "    counter -= 1"
   ]
  },
  {
   "cell_type": "code",
   "execution_count": 71,
   "id": "b4cfd76a",
   "metadata": {},
   "outputs": [
    {
     "name": "stdout",
     "output_type": "stream",
     "text": [
      "0\n",
      "1\n",
      "2\n",
      "3\n",
      "4\n",
      "5\n",
      "6\n",
      "7\n",
      "8\n",
      "9\n",
      "10\n"
     ]
    }
   ],
   "source": [
    "while counter <= 10:\n",
    "    print(counter)\n",
    "    counter += 1"
   ]
  },
  {
   "cell_type": "code",
   "execution_count": 72,
   "id": "1c822935",
   "metadata": {},
   "outputs": [],
   "source": [
    "# For döngüsü \n"
   ]
  },
  {
   "cell_type": "code",
   "execution_count": 74,
   "id": "eddd6dc1",
   "metadata": {},
   "outputs": [],
   "source": [
    "for_list = [1, 2, 3, 4, 5, 6, 7]"
   ]
  },
  {
   "cell_type": "code",
   "execution_count": 75,
   "id": "68cc950c",
   "metadata": {},
   "outputs": [
    {
     "name": "stdout",
     "output_type": "stream",
     "text": [
      "1\n",
      "2\n",
      "3\n",
      "4\n",
      "5\n",
      "6\n",
      "7\n"
     ]
    }
   ],
   "source": [
    "for i in for_list:\n",
    "    print(i)"
   ]
  },
  {
   "cell_type": "code",
   "execution_count": 76,
   "id": "f5f7584b",
   "metadata": {},
   "outputs": [
    {
     "name": "stdout",
     "output_type": "stream",
     "text": [
      "0\n",
      "1\n",
      "2\n",
      "3\n",
      "4\n"
     ]
    }
   ],
   "source": [
    "for i in range(0,5): # ilk parametre i değerlerine dahil iken ikinci parametre dahil değildir.\n",
    "    print(i)"
   ]
  },
  {
   "cell_type": "code",
   "execution_count": 77,
   "id": "30c9367d",
   "metadata": {},
   "outputs": [],
   "source": [
    "for_dictionary = {'first_item':'first_key',\n",
    "                 'second_item': 'second_key',\n",
    "                 'third_item': 'third_key'}"
   ]
  },
  {
   "cell_type": "code",
   "execution_count": 78,
   "id": "ba122418",
   "metadata": {},
   "outputs": [
    {
     "name": "stdout",
     "output_type": "stream",
     "text": [
      "key: first_item\n",
      "value: first_key\n",
      "#################\n",
      "key: second_item\n",
      "value: second_key\n",
      "#################\n",
      "key: third_item\n",
      "value: third_key\n",
      "#################\n"
     ]
    }
   ],
   "source": [
    "for key, value in for_dictionary.items():\n",
    "    print(f\"key: {key}\")\n",
    "    print(f\"value: {value}\")\n",
    "    print('#################')"
   ]
  },
  {
   "cell_type": "code",
   "execution_count": 79,
   "id": "353730bd",
   "metadata": {},
   "outputs": [],
   "source": [
    "new_list = [1, 2, 3, 4, 5, 6, 7, 8]"
   ]
  },
  {
   "cell_type": "code",
   "execution_count": 80,
   "id": "cc64bd31",
   "metadata": {},
   "outputs": [
    {
     "name": "stdout",
     "output_type": "stream",
     "text": [
      "1\n",
      "3\n",
      "4\n",
      "6\n"
     ]
    }
   ],
   "source": [
    "for item in new_list:\n",
    "    if item == 2 or item ==5:\n",
    "        continue\n",
    "    elif item == 7:\n",
    "        break\n",
    "    else:\n",
    "        print(item)"
   ]
  },
  {
   "cell_type": "code",
   "execution_count": 28,
   "id": "1bce226c",
   "metadata": {},
   "outputs": [],
   "source": [
    "############# Fonksiyonlar "
   ]
  },
  {
   "cell_type": "code",
   "execution_count": 81,
   "id": "86ce1157",
   "metadata": {},
   "outputs": [],
   "source": [
    "def toplama(num_1, num_2):\n",
    "    return num_1 + num_2"
   ]
  },
  {
   "cell_type": "code",
   "execution_count": 82,
   "id": "8a714d89",
   "metadata": {},
   "outputs": [
    {
     "data": {
      "text/plain": [
       "8"
      ]
     },
     "execution_count": 82,
     "metadata": {},
     "output_type": "execute_result"
    }
   ],
   "source": [
    "toplama(3, 5)"
   ]
  },
  {
   "cell_type": "code",
   "execution_count": 83,
   "id": "100646dd",
   "metadata": {},
   "outputs": [],
   "source": [
    "####### Decorators\n"
   ]
  },
  {
   "cell_type": "code",
   "execution_count": 84,
   "id": "4d05501e",
   "metadata": {},
   "outputs": [],
   "source": [
    "def decorator_function(func):\n",
    "    def wrapper_function():\n",
    "        print(\"Wrapper step 1 \")\n",
    "        func()\n",
    "        print(\"Wrapper step 3\")\n",
    "    return wrapper_function"
   ]
  },
  {
   "cell_type": "code",
   "execution_count": 85,
   "id": "5f48fbaf",
   "metadata": {},
   "outputs": [],
   "source": [
    "def my_function():\n",
    "    print(\"My Function print\")"
   ]
  },
  {
   "cell_type": "code",
   "execution_count": 86,
   "id": "bb262b5a",
   "metadata": {},
   "outputs": [],
   "source": [
    "wrapped_function = decorator_function(my_function)"
   ]
  },
  {
   "cell_type": "code",
   "execution_count": 87,
   "id": "cbda13ee",
   "metadata": {},
   "outputs": [
    {
     "name": "stdout",
     "output_type": "stream",
     "text": [
      "Wrapper step 1 \n",
      "My Function print\n",
      "Wrapper step 3\n"
     ]
    }
   ],
   "source": [
    "wrapped_function()"
   ]
  },
  {
   "cell_type": "code",
   "execution_count": 88,
   "id": "308e026a",
   "metadata": {},
   "outputs": [],
   "source": [
    "@decorator_function\n",
    "def my_wrapped_function():\n",
    "    print(\"Wrapped function\")"
   ]
  },
  {
   "cell_type": "code",
   "execution_count": 89,
   "id": "f3bbd5a6",
   "metadata": {},
   "outputs": [
    {
     "name": "stdout",
     "output_type": "stream",
     "text": [
      "Wrapper step 1 \n",
      "Wrapped function\n",
      "Wrapper step 3\n"
     ]
    }
   ],
   "source": [
    "my_wrapped_function()"
   ]
  },
  {
   "cell_type": "code",
   "execution_count": null,
   "id": "c0d7c256",
   "metadata": {},
   "outputs": [],
   "source": []
  }
 ],
 "metadata": {
  "kernelspec": {
   "display_name": "Python 3",
   "language": "python",
   "name": "python3"
  },
  "language_info": {
   "codemirror_mode": {
    "name": "ipython",
    "version": 3
   },
   "file_extension": ".py",
   "mimetype": "text/x-python",
   "name": "python",
   "nbconvert_exporter": "python",
   "pygments_lexer": "ipython3",
   "version": "3.8.8"
  }
 },
 "nbformat": 4,
 "nbformat_minor": 5
}
